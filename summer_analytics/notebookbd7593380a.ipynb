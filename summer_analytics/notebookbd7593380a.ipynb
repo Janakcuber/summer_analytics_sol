{
 "cells": [
  {
   "cell_type": "code",
   "execution_count": 1,
   "id": "d32ae21e",
   "metadata": {
    "_cell_guid": "b1076dfc-b9ad-4769-8c92-a6c4dae69d19",
    "_uuid": "8f2839f25d086af736a60e9eeb907d3b93b6e0e5",
    "execution": {
     "iopub.execute_input": "2025-06-12T12:17:19.527845Z",
     "iopub.status.busy": "2025-06-12T12:17:19.526863Z",
     "iopub.status.idle": "2025-06-12T12:17:23.730605Z",
     "shell.execute_reply": "2025-06-12T12:17:23.729507Z"
    },
    "papermill": {
     "duration": 4.210295,
     "end_time": "2025-06-12T12:17:23.732271",
     "exception": false,
     "start_time": "2025-06-12T12:17:19.521976",
     "status": "completed"
    },
    "tags": []
   },
   "outputs": [
    {
     "name": "stdout",
     "output_type": "stream",
     "text": [
      "/kaggle/input/summer-analytics-mid-hackathon/hacktest.csv\n",
      "/kaggle/input/summer-analytics-mid-hackathon/hacktrain.csv\n"
     ]
    }
   ],
   "source": [
    "# This Python 3 environment comes with many helpful analytics libraries installed\n",
    "# It is defined by the kaggle/python Docker image: https://github.com/kaggle/docker-python\n",
    "# For example, here's several helpful packages to load\n",
    "\n",
    "import numpy as np # linear algebra\n",
    "import pandas as pd # data processing, CSV file I/O (e.g. pd.read_csv)\n",
    "from sklearn.preprocessing import StandardScaler, RobustScaler\n",
    "from sklearn.linear_model import LogisticRegression\n",
    "from sklearn.model_selection import train_test_split, cross_val_score, GridSearchCV\n",
    "from sklearn.metrics import accuracy_score\n",
    "from sklearn.feature_selection import VarianceThreshold\n",
    "\n",
    "# Input data files are available in the read-only \"../input/\" directory\n",
    "# For example, running this (by clicking run or pressing Shift+Enter) will list all files under the input directory\n",
    "\n",
    "import os\n",
    "for dirname, _, filenames in os.walk('/kaggle/input'):\n",
    "    for filename in filenames:\n",
    "        print(os.path.join(dirname, filename))\n",
    "\n",
    "# You can write up to 20GB to the current directory (/kaggle/working/) that gets preserved as output when you create a version using \"Save & Run All\" \n",
    "# You can also write temporary files to /kaggle/temp/, but they won't be saved outside of the current session"
   ]
  },
  {
   "cell_type": "code",
   "execution_count": 2,
   "id": "9b0c8fc6",
   "metadata": {
    "execution": {
     "iopub.execute_input": "2025-06-12T12:17:23.740568Z",
     "iopub.status.busy": "2025-06-12T12:17:23.739528Z",
     "iopub.status.idle": "2025-06-12T12:17:23.846150Z",
     "shell.execute_reply": "2025-06-12T12:17:23.845129Z"
    },
    "papermill": {
     "duration": 0.11227,
     "end_time": "2025-06-12T12:17:23.847941",
     "exception": false,
     "start_time": "2025-06-12T12:17:23.735671",
     "status": "completed"
    },
    "tags": []
   },
   "outputs": [],
   "source": [
    "# Load data\n",
    "train = pd.read_csv('/kaggle/input/summer-analytics-mid-hackathon/hacktrain.csv').drop(columns=['Unnamed: 0'])\n",
    "test = pd.read_csv('/kaggle/input/summer-analytics-mid-hackathon/hacktest.csv')"
   ]
  },
  {
   "cell_type": "code",
   "execution_count": 3,
   "id": "4caccb1d",
   "metadata": {
    "execution": {
     "iopub.execute_input": "2025-06-12T12:17:23.855044Z",
     "iopub.status.busy": "2025-06-12T12:17:23.854724Z",
     "iopub.status.idle": "2025-06-12T12:17:23.889764Z",
     "shell.execute_reply": "2025-06-12T12:17:23.888537Z"
    },
    "papermill": {
     "duration": 0.040396,
     "end_time": "2025-06-12T12:17:23.891362",
     "exception": false,
     "start_time": "2025-06-12T12:17:23.850966",
     "status": "completed"
    },
    "tags": []
   },
   "outputs": [
    {
     "name": "stderr",
     "output_type": "stream",
     "text": [
      "/usr/local/lib/python3.11/dist-packages/pandas/io/formats/format.py:1458: RuntimeWarning: invalid value encountered in greater\n",
      "  has_large_values = (abs_vals > 1e6).any()\n",
      "/usr/local/lib/python3.11/dist-packages/pandas/io/formats/format.py:1459: RuntimeWarning: invalid value encountered in less\n",
      "  has_small_values = ((abs_vals < 10 ** (-self.digits)) & (abs_vals > 0)).any()\n",
      "/usr/local/lib/python3.11/dist-packages/pandas/io/formats/format.py:1459: RuntimeWarning: invalid value encountered in greater\n",
      "  has_small_values = ((abs_vals < 10 ** (-self.digits)) & (abs_vals > 0)).any()\n",
      "/usr/local/lib/python3.11/dist-packages/pandas/io/formats/format.py:1458: RuntimeWarning: invalid value encountered in greater\n",
      "  has_large_values = (abs_vals > 1e6).any()\n",
      "/usr/local/lib/python3.11/dist-packages/pandas/io/formats/format.py:1459: RuntimeWarning: invalid value encountered in less\n",
      "  has_small_values = ((abs_vals < 10 ** (-self.digits)) & (abs_vals > 0)).any()\n",
      "/usr/local/lib/python3.11/dist-packages/pandas/io/formats/format.py:1459: RuntimeWarning: invalid value encountered in greater\n",
      "  has_small_values = ((abs_vals < 10 ** (-self.digits)) & (abs_vals > 0)).any()\n"
     ]
    },
    {
     "data": {
      "text/html": [
       "<div>\n",
       "<style scoped>\n",
       "    .dataframe tbody tr th:only-of-type {\n",
       "        vertical-align: middle;\n",
       "    }\n",
       "\n",
       "    .dataframe tbody tr th {\n",
       "        vertical-align: top;\n",
       "    }\n",
       "\n",
       "    .dataframe thead th {\n",
       "        text-align: right;\n",
       "    }\n",
       "</style>\n",
       "<table border=\"1\" class=\"dataframe\">\n",
       "  <thead>\n",
       "    <tr style=\"text-align: right;\">\n",
       "      <th></th>\n",
       "      <th>ID</th>\n",
       "      <th>class</th>\n",
       "      <th>20150720_N</th>\n",
       "      <th>20150602_N</th>\n",
       "      <th>20150517_N</th>\n",
       "      <th>20150501_N</th>\n",
       "      <th>20150415_N</th>\n",
       "      <th>20150330_N</th>\n",
       "      <th>20150314_N</th>\n",
       "      <th>20150226_N</th>\n",
       "      <th>...</th>\n",
       "      <th>20140610_N</th>\n",
       "      <th>20140525_N</th>\n",
       "      <th>20140509_N</th>\n",
       "      <th>20140423_N</th>\n",
       "      <th>20140407_N</th>\n",
       "      <th>20140322_N</th>\n",
       "      <th>20140218_N</th>\n",
       "      <th>20140202_N</th>\n",
       "      <th>20140117_N</th>\n",
       "      <th>20140101_N</th>\n",
       "    </tr>\n",
       "  </thead>\n",
       "  <tbody>\n",
       "    <tr>\n",
       "      <th>0</th>\n",
       "      <td>1</td>\n",
       "      <td>water</td>\n",
       "      <td>637.5950</td>\n",
       "      <td>658.668</td>\n",
       "      <td>-1882.030</td>\n",
       "      <td>-1924.36</td>\n",
       "      <td>997.904</td>\n",
       "      <td>-1739.990</td>\n",
       "      <td>630.087</td>\n",
       "      <td>NaN</td>\n",
       "      <td>...</td>\n",
       "      <td>NaN</td>\n",
       "      <td>-1043.160</td>\n",
       "      <td>-1942.490</td>\n",
       "      <td>267.138</td>\n",
       "      <td>NaN</td>\n",
       "      <td>NaN</td>\n",
       "      <td>211.328</td>\n",
       "      <td>-2203.020</td>\n",
       "      <td>-1180.19</td>\n",
       "      <td>433.906</td>\n",
       "    </tr>\n",
       "    <tr>\n",
       "      <th>1</th>\n",
       "      <td>2</td>\n",
       "      <td>water</td>\n",
       "      <td>634.2400</td>\n",
       "      <td>593.705</td>\n",
       "      <td>-1625.790</td>\n",
       "      <td>-1672.32</td>\n",
       "      <td>914.198</td>\n",
       "      <td>-692.386</td>\n",
       "      <td>707.626</td>\n",
       "      <td>-1670.590</td>\n",
       "      <td>...</td>\n",
       "      <td>NaN</td>\n",
       "      <td>-933.934</td>\n",
       "      <td>-625.385</td>\n",
       "      <td>120.059</td>\n",
       "      <td>364.858</td>\n",
       "      <td>476.972</td>\n",
       "      <td>220.878</td>\n",
       "      <td>-2250.000</td>\n",
       "      <td>-1360.56</td>\n",
       "      <td>524.075</td>\n",
       "    </tr>\n",
       "    <tr>\n",
       "      <th>2</th>\n",
       "      <td>4</td>\n",
       "      <td>water</td>\n",
       "      <td>58.0174</td>\n",
       "      <td>-1599.160</td>\n",
       "      <td>NaN</td>\n",
       "      <td>-1052.63</td>\n",
       "      <td>NaN</td>\n",
       "      <td>-1564.630</td>\n",
       "      <td>NaN</td>\n",
       "      <td>729.790</td>\n",
       "      <td>...</td>\n",
       "      <td>-1025.88</td>\n",
       "      <td>368.622</td>\n",
       "      <td>NaN</td>\n",
       "      <td>-1227.800</td>\n",
       "      <td>304.621</td>\n",
       "      <td>NaN</td>\n",
       "      <td>369.214</td>\n",
       "      <td>-2202.120</td>\n",
       "      <td>NaN</td>\n",
       "      <td>-1343.550</td>\n",
       "    </tr>\n",
       "    <tr>\n",
       "      <th>3</th>\n",
       "      <td>5</td>\n",
       "      <td>water</td>\n",
       "      <td>72.5180</td>\n",
       "      <td>NaN</td>\n",
       "      <td>380.436</td>\n",
       "      <td>-1256.93</td>\n",
       "      <td>515.805</td>\n",
       "      <td>-1413.180</td>\n",
       "      <td>-802.942</td>\n",
       "      <td>683.254</td>\n",
       "      <td>...</td>\n",
       "      <td>-1813.95</td>\n",
       "      <td>155.624</td>\n",
       "      <td>NaN</td>\n",
       "      <td>-924.073</td>\n",
       "      <td>432.150</td>\n",
       "      <td>282.833</td>\n",
       "      <td>298.320</td>\n",
       "      <td>-2197.360</td>\n",
       "      <td>NaN</td>\n",
       "      <td>-826.727</td>\n",
       "    </tr>\n",
       "    <tr>\n",
       "      <th>4</th>\n",
       "      <td>8</td>\n",
       "      <td>water</td>\n",
       "      <td>1136.4400</td>\n",
       "      <td>NaN</td>\n",
       "      <td>NaN</td>\n",
       "      <td>1647.83</td>\n",
       "      <td>1935.800</td>\n",
       "      <td>NaN</td>\n",
       "      <td>2158.980</td>\n",
       "      <td>NaN</td>\n",
       "      <td>...</td>\n",
       "      <td>1535.00</td>\n",
       "      <td>1959.430</td>\n",
       "      <td>-279.317</td>\n",
       "      <td>-384.915</td>\n",
       "      <td>-113.406</td>\n",
       "      <td>1020.720</td>\n",
       "      <td>1660.650</td>\n",
       "      <td>-116.801</td>\n",
       "      <td>-568.05</td>\n",
       "      <td>-1357.140</td>\n",
       "    </tr>\n",
       "  </tbody>\n",
       "</table>\n",
       "<p>5 rows × 29 columns</p>\n",
       "</div>"
      ],
      "text/plain": [
       "   ID  class  20150720_N  20150602_N  20150517_N  20150501_N  20150415_N  \\\n",
       "0   1  water    637.5950     658.668   -1882.030    -1924.36     997.904   \n",
       "1   2  water    634.2400     593.705   -1625.790    -1672.32     914.198   \n",
       "2   4  water     58.0174   -1599.160         NaN    -1052.63         NaN   \n",
       "3   5  water     72.5180         NaN     380.436    -1256.93     515.805   \n",
       "4   8  water   1136.4400         NaN         NaN     1647.83    1935.800   \n",
       "\n",
       "   20150330_N  20150314_N  20150226_N  ...  20140610_N  20140525_N  \\\n",
       "0   -1739.990     630.087         NaN  ...         NaN   -1043.160   \n",
       "1    -692.386     707.626   -1670.590  ...         NaN    -933.934   \n",
       "2   -1564.630         NaN     729.790  ...    -1025.88     368.622   \n",
       "3   -1413.180    -802.942     683.254  ...    -1813.95     155.624   \n",
       "4         NaN    2158.980         NaN  ...     1535.00    1959.430   \n",
       "\n",
       "   20140509_N  20140423_N  20140407_N  20140322_N  20140218_N  20140202_N  \\\n",
       "0   -1942.490     267.138         NaN         NaN     211.328   -2203.020   \n",
       "1    -625.385     120.059     364.858     476.972     220.878   -2250.000   \n",
       "2         NaN   -1227.800     304.621         NaN     369.214   -2202.120   \n",
       "3         NaN    -924.073     432.150     282.833     298.320   -2197.360   \n",
       "4    -279.317    -384.915    -113.406    1020.720    1660.650    -116.801   \n",
       "\n",
       "   20140117_N  20140101_N  \n",
       "0    -1180.19     433.906  \n",
       "1    -1360.56     524.075  \n",
       "2         NaN   -1343.550  \n",
       "3         NaN    -826.727  \n",
       "4     -568.05   -1357.140  \n",
       "\n",
       "[5 rows x 29 columns]"
      ]
     },
     "execution_count": 3,
     "metadata": {},
     "output_type": "execute_result"
    }
   ],
   "source": [
    "train.head()"
   ]
  },
  {
   "cell_type": "code",
   "execution_count": 4,
   "id": "b422fa63",
   "metadata": {
    "execution": {
     "iopub.execute_input": "2025-06-12T12:17:23.899487Z",
     "iopub.status.busy": "2025-06-12T12:17:23.899139Z",
     "iopub.status.idle": "2025-06-12T12:17:23.909212Z",
     "shell.execute_reply": "2025-06-12T12:17:23.908285Z"
    },
    "papermill": {
     "duration": 0.01611,
     "end_time": "2025-06-12T12:17:23.911076",
     "exception": false,
     "start_time": "2025-06-12T12:17:23.894966",
     "status": "completed"
    },
    "tags": []
   },
   "outputs": [],
   "source": [
    "# Extract NDVI columns\n",
    "ndvi_cols = [col for col in train.columns if '_N' in col]\n",
    "train_ndvi = train[ndvi_cols].copy()\n",
    "test_ndvi = test[ndvi_cols].copy()"
   ]
  },
  {
   "cell_type": "code",
   "execution_count": 5,
   "id": "bb69c16f",
   "metadata": {
    "execution": {
     "iopub.execute_input": "2025-06-12T12:17:23.919239Z",
     "iopub.status.busy": "2025-06-12T12:17:23.918921Z",
     "iopub.status.idle": "2025-06-12T12:17:24.286444Z",
     "shell.execute_reply": "2025-06-12T12:17:24.285384Z"
    },
    "papermill": {
     "duration": 0.373754,
     "end_time": "2025-06-12T12:17:24.288323",
     "exception": false,
     "start_time": "2025-06-12T12:17:23.914569",
     "status": "completed"
    },
    "tags": []
   },
   "outputs": [],
   "source": [
    "# Advanced Imputation & Smoothing\n",
    "# Linear interpolation + forward/backward fill\n",
    "train_ndvi.interpolate(method='linear', axis=1, inplace=True)\n",
    "train_ndvi.bfill(axis=1, inplace=True)\n",
    "train_ndvi.ffill(axis=1, inplace=True)\n",
    "\n",
    "test_ndvi.interpolate(method='linear', axis=1, inplace=True)\n",
    "test_ndvi.bfill(axis=1, inplace=True)\n",
    "test_ndvi.ffill(axis=1, inplace=True)"
   ]
  },
  {
   "cell_type": "code",
   "execution_count": 6,
   "id": "f7ee2e91",
   "metadata": {
    "execution": {
     "iopub.execute_input": "2025-06-12T12:17:24.296226Z",
     "iopub.status.busy": "2025-06-12T12:17:24.295878Z",
     "iopub.status.idle": "2025-06-12T12:17:24.778507Z",
     "shell.execute_reply": "2025-06-12T12:17:24.777292Z"
    },
    "papermill": {
     "duration": 0.488436,
     "end_time": "2025-06-12T12:17:24.780112",
     "exception": false,
     "start_time": "2025-06-12T12:17:24.291676",
     "status": "completed"
    },
    "tags": []
   },
   "outputs": [
    {
     "name": "stderr",
     "output_type": "stream",
     "text": [
      "/tmp/ipykernel_13/4237001791.py:3: FutureWarning: Support for axis=1 in DataFrame.rolling is deprecated and will be removed in a future version. Use obj.T.rolling(...) instead\n",
      "  train_smoothed = train_ndvi.rolling(window=window, axis=1, min_periods=1).mean()\n",
      "/tmp/ipykernel_13/4237001791.py:4: FutureWarning: Support for axis=1 in DataFrame.rolling is deprecated and will be removed in a future version. Use obj.T.rolling(...) instead\n",
      "  test_smoothed = test_ndvi.rolling(window=window, axis=1, min_periods=1).mean()\n"
     ]
    }
   ],
   "source": [
    "# Smooth with rolling mean (denoising)\n",
    "window = 5\n",
    "train_smoothed = train_ndvi.rolling(window=window, axis=1, min_periods=1).mean()\n",
    "test_smoothed = test_ndvi.rolling(window=window, axis=1, min_periods=1).mean()"
   ]
  },
  {
   "cell_type": "code",
   "execution_count": 7,
   "id": "3a96dd3e",
   "metadata": {
    "execution": {
     "iopub.execute_input": "2025-06-12T12:17:24.788173Z",
     "iopub.status.busy": "2025-06-12T12:17:24.787856Z",
     "iopub.status.idle": "2025-06-12T12:17:28.537070Z",
     "shell.execute_reply": "2025-06-12T12:17:28.536214Z"
    },
    "papermill": {
     "duration": 3.755196,
     "end_time": "2025-06-12T12:17:28.538794",
     "exception": false,
     "start_time": "2025-06-12T12:17:24.783598",
     "status": "completed"
    },
    "tags": []
   },
   "outputs": [
    {
     "name": "stderr",
     "output_type": "stream",
     "text": [
      "/tmp/ipykernel_13/3910614205.py:22: FutureWarning: Support for axis=1 in DataFrame.rolling is deprecated and will be removed in a future version. Use obj.T.rolling(...) instead\n",
      "  features['rolling_avg_3'] = df.rolling(window=3, axis=1).mean().iloc[:, -1]\n",
      "/tmp/ipykernel_13/3910614205.py:23: FutureWarning: Support for axis=1 in DataFrame.rolling is deprecated and will be removed in a future version. Use obj.T.rolling(...) instead\n",
      "  features['rolling_avg_5'] = df.rolling(window=5, axis=1).mean().iloc[:, -1]\n",
      "/tmp/ipykernel_13/3910614205.py:24: FutureWarning: Support for axis=1 in DataFrame.rolling is deprecated and will be removed in a future version. Use obj.T.rolling(...) instead\n",
      "  features['rolling_std_5'] = df.rolling(window=5, axis=1).std().iloc[:, -1]\n",
      "/tmp/ipykernel_13/3910614205.py:22: FutureWarning: Support for axis=1 in DataFrame.rolling is deprecated and will be removed in a future version. Use obj.T.rolling(...) instead\n",
      "  features['rolling_avg_3'] = df.rolling(window=3, axis=1).mean().iloc[:, -1]\n",
      "/tmp/ipykernel_13/3910614205.py:23: FutureWarning: Support for axis=1 in DataFrame.rolling is deprecated and will be removed in a future version. Use obj.T.rolling(...) instead\n",
      "  features['rolling_avg_5'] = df.rolling(window=5, axis=1).mean().iloc[:, -1]\n",
      "/tmp/ipykernel_13/3910614205.py:24: FutureWarning: Support for axis=1 in DataFrame.rolling is deprecated and will be removed in a future version. Use obj.T.rolling(...) instead\n",
      "  features['rolling_std_5'] = df.rolling(window=5, axis=1).std().iloc[:, -1]\n"
     ]
    }
   ],
   "source": [
    "# Enhanced Feature Engineering\n",
    "def create_features(df):\n",
    "    features = pd.DataFrame()\n",
    "    \n",
    "    # Basic stats\n",
    "    features['mean'] = df.mean(axis=1)\n",
    "    features['std'] = df.std(axis=1)\n",
    "    features['min'] = df.min(axis=1)\n",
    "    features['max'] = df.max(axis=1)\n",
    "    features['median'] = df.median(axis=1)\n",
    "    features['range'] = features['max'] - features['min']\n",
    "    features['q25'] = df.quantile(0.25, axis=1)\n",
    "    features['q75'] = df.quantile(0.75, axis=1)\n",
    "    \n",
    "    # Advanced time-series features\n",
    "    x = np.arange(df.shape[1])\n",
    "    features['slope'] = df.apply(lambda row: np.polyfit(x, row, 1)[0], axis=1)\n",
    "    features['intercept'] = df.apply(lambda row: np.polyfit(x, row, 1)[1], axis=1)\n",
    "    features['trend_strength'] = features['slope'] / (features['std'] + 1e-6)\n",
    "    \n",
    "    # Rolling features\n",
    "    features['rolling_avg_3'] = df.rolling(window=3, axis=1).mean().iloc[:, -1]\n",
    "    features['rolling_avg_5'] = df.rolling(window=5, axis=1).mean().iloc[:, -1]\n",
    "    features['rolling_std_5'] = df.rolling(window=5, axis=1).std().iloc[:, -1]\n",
    "    \n",
    "    # Change features\n",
    "    features['mean_abs_change'] = df.diff(axis=1).abs().mean(axis=1)\n",
    "    features['max_abs_change'] = df.diff(axis=1).abs().max(axis=1)\n",
    "    \n",
    "    # Peak/valley detection\n",
    "    features['n_peaks'] = df.apply(lambda row: len(np.where(np.diff(np.sign(np.diff(row))) < 0)[0]), axis=1)\n",
    "    \n",
    "    return features\n",
    "\n",
    "X_train = create_features(train_smoothed)\n",
    "X_test = create_features(test_smoothed)\n",
    "y_train = train['class']"
   ]
  },
  {
   "cell_type": "code",
   "execution_count": 8,
   "id": "8a3450eb",
   "metadata": {
    "execution": {
     "iopub.execute_input": "2025-06-12T12:17:28.547594Z",
     "iopub.status.busy": "2025-06-12T12:17:28.547227Z",
     "iopub.status.idle": "2025-06-12T12:17:28.561024Z",
     "shell.execute_reply": "2025-06-12T12:17:28.559963Z"
    },
    "papermill": {
     "duration": 0.020176,
     "end_time": "2025-06-12T12:17:28.562726",
     "exception": false,
     "start_time": "2025-06-12T12:17:28.542550",
     "status": "completed"
    },
    "tags": []
   },
   "outputs": [],
   "source": [
    "selector = VarianceThreshold(threshold=0.01)\n",
    "X_train = selector.fit_transform(X_train)\n",
    "X_test = selector.transform(X_test)"
   ]
  },
  {
   "cell_type": "code",
   "execution_count": 9,
   "id": "0221519f",
   "metadata": {
    "execution": {
     "iopub.execute_input": "2025-06-12T12:17:28.572081Z",
     "iopub.status.busy": "2025-06-12T12:17:28.571307Z",
     "iopub.status.idle": "2025-06-12T12:17:28.590136Z",
     "shell.execute_reply": "2025-06-12T12:17:28.589402Z"
    },
    "papermill": {
     "duration": 0.024937,
     "end_time": "2025-06-12T12:17:28.591758",
     "exception": false,
     "start_time": "2025-06-12T12:17:28.566821",
     "status": "completed"
    },
    "tags": []
   },
   "outputs": [],
   "source": [
    "scaler = RobustScaler()\n",
    "X_train_scaled = scaler.fit_transform(X_train)\n",
    "X_test_scaled = scaler.transform(X_test)"
   ]
  },
  {
   "cell_type": "code",
   "execution_count": 10,
   "id": "fb01f74b",
   "metadata": {
    "execution": {
     "iopub.execute_input": "2025-06-12T12:17:28.601560Z",
     "iopub.status.busy": "2025-06-12T12:17:28.600904Z",
     "iopub.status.idle": "2025-06-12T12:17:32.676954Z",
     "shell.execute_reply": "2025-06-12T12:17:32.676201Z"
    },
    "papermill": {
     "duration": 4.086058,
     "end_time": "2025-06-12T12:17:32.681754",
     "exception": false,
     "start_time": "2025-06-12T12:17:28.595696",
     "status": "completed"
    },
    "tags": []
   },
   "outputs": [
    {
     "name": "stdout",
     "output_type": "stream",
     "text": [
      "Best C: [10. 10. 10. 10. 10. 10.]\n"
     ]
    }
   ],
   "source": [
    "from sklearn.linear_model import LogisticRegressionCV\n",
    "\n",
    "model = LogisticRegressionCV(\n",
    "    Cs=[0.1, 1, 10],\n",
    "    cv=5,\n",
    "    max_iter=1000,\n",
    "    penalty='l2',\n",
    "    solver='lbfgs',\n",
    "    multi_class='multinomial',\n",
    "    random_state=42,\n",
    "    n_jobs=-1\n",
    ")\n",
    "model.fit(X_train_scaled, y_train)\n",
    "print(\"Best C:\", model.C_)"
   ]
  },
  {
   "cell_type": "code",
   "execution_count": 11,
   "id": "ee587c78",
   "metadata": {
    "execution": {
     "iopub.execute_input": "2025-06-12T12:17:32.697031Z",
     "iopub.status.busy": "2025-06-12T12:17:32.696248Z",
     "iopub.status.idle": "2025-06-12T12:17:35.528682Z",
     "shell.execute_reply": "2025-06-12T12:17:35.527853Z"
    },
    "papermill": {
     "duration": 2.841957,
     "end_time": "2025-06-12T12:17:35.530639",
     "exception": false,
     "start_time": "2025-06-12T12:17:32.688682",
     "status": "completed"
    },
    "tags": []
   },
   "outputs": [
    {
     "data": {
      "text/html": [
       "<style>#sk-container-id-1 {color: black;background-color: white;}#sk-container-id-1 pre{padding: 0;}#sk-container-id-1 div.sk-toggleable {background-color: white;}#sk-container-id-1 label.sk-toggleable__label {cursor: pointer;display: block;width: 100%;margin-bottom: 0;padding: 0.3em;box-sizing: border-box;text-align: center;}#sk-container-id-1 label.sk-toggleable__label-arrow:before {content: \"▸\";float: left;margin-right: 0.25em;color: #696969;}#sk-container-id-1 label.sk-toggleable__label-arrow:hover:before {color: black;}#sk-container-id-1 div.sk-estimator:hover label.sk-toggleable__label-arrow:before {color: black;}#sk-container-id-1 div.sk-toggleable__content {max-height: 0;max-width: 0;overflow: hidden;text-align: left;background-color: #f0f8ff;}#sk-container-id-1 div.sk-toggleable__content pre {margin: 0.2em;color: black;border-radius: 0.25em;background-color: #f0f8ff;}#sk-container-id-1 input.sk-toggleable__control:checked~div.sk-toggleable__content {max-height: 200px;max-width: 100%;overflow: auto;}#sk-container-id-1 input.sk-toggleable__control:checked~label.sk-toggleable__label-arrow:before {content: \"▾\";}#sk-container-id-1 div.sk-estimator input.sk-toggleable__control:checked~label.sk-toggleable__label {background-color: #d4ebff;}#sk-container-id-1 div.sk-label input.sk-toggleable__control:checked~label.sk-toggleable__label {background-color: #d4ebff;}#sk-container-id-1 input.sk-hidden--visually {border: 0;clip: rect(1px 1px 1px 1px);clip: rect(1px, 1px, 1px, 1px);height: 1px;margin: -1px;overflow: hidden;padding: 0;position: absolute;width: 1px;}#sk-container-id-1 div.sk-estimator {font-family: monospace;background-color: #f0f8ff;border: 1px dotted black;border-radius: 0.25em;box-sizing: border-box;margin-bottom: 0.5em;}#sk-container-id-1 div.sk-estimator:hover {background-color: #d4ebff;}#sk-container-id-1 div.sk-parallel-item::after {content: \"\";width: 100%;border-bottom: 1px solid gray;flex-grow: 1;}#sk-container-id-1 div.sk-label:hover label.sk-toggleable__label {background-color: #d4ebff;}#sk-container-id-1 div.sk-serial::before {content: \"\";position: absolute;border-left: 1px solid gray;box-sizing: border-box;top: 0;bottom: 0;left: 50%;z-index: 0;}#sk-container-id-1 div.sk-serial {display: flex;flex-direction: column;align-items: center;background-color: white;padding-right: 0.2em;padding-left: 0.2em;position: relative;}#sk-container-id-1 div.sk-item {position: relative;z-index: 1;}#sk-container-id-1 div.sk-parallel {display: flex;align-items: stretch;justify-content: center;background-color: white;position: relative;}#sk-container-id-1 div.sk-item::before, #sk-container-id-1 div.sk-parallel-item::before {content: \"\";position: absolute;border-left: 1px solid gray;box-sizing: border-box;top: 0;bottom: 0;left: 50%;z-index: -1;}#sk-container-id-1 div.sk-parallel-item {display: flex;flex-direction: column;z-index: 1;position: relative;background-color: white;}#sk-container-id-1 div.sk-parallel-item:first-child::after {align-self: flex-end;width: 50%;}#sk-container-id-1 div.sk-parallel-item:last-child::after {align-self: flex-start;width: 50%;}#sk-container-id-1 div.sk-parallel-item:only-child::after {width: 0;}#sk-container-id-1 div.sk-dashed-wrapped {border: 1px dashed gray;margin: 0 0.4em 0.5em 0.4em;box-sizing: border-box;padding-bottom: 0.4em;background-color: white;}#sk-container-id-1 div.sk-label label {font-family: monospace;font-weight: bold;display: inline-block;line-height: 1.2em;}#sk-container-id-1 div.sk-label-container {text-align: center;}#sk-container-id-1 div.sk-container {/* jupyter's `normalize.less` sets `[hidden] { display: none; }` but bootstrap.min.css set `[hidden] { display: none !important; }` so we also need the `!important` here to be able to override the default hidden behavior on the sphinx rendered scikit-learn.org. See: https://github.com/scikit-learn/scikit-learn/issues/21755 */display: inline-block !important;position: relative;}#sk-container-id-1 div.sk-text-repr-fallback {display: none;}</style><div id=\"sk-container-id-1\" class=\"sk-top-container\"><div class=\"sk-text-repr-fallback\"><pre>LogisticRegressionCV(Cs=[0.1, 1, 10], cv=5, max_iter=1000,\n",
       "                     multi_class=&#x27;multinomial&#x27;, n_jobs=-1, random_state=42)</pre><b>In a Jupyter environment, please rerun this cell to show the HTML representation or trust the notebook. <br />On GitHub, the HTML representation is unable to render, please try loading this page with nbviewer.org.</b></div><div class=\"sk-container\" hidden><div class=\"sk-item\"><div class=\"sk-estimator sk-toggleable\"><input class=\"sk-toggleable__control sk-hidden--visually\" id=\"sk-estimator-id-1\" type=\"checkbox\" checked><label for=\"sk-estimator-id-1\" class=\"sk-toggleable__label sk-toggleable__label-arrow\">LogisticRegressionCV</label><div class=\"sk-toggleable__content\"><pre>LogisticRegressionCV(Cs=[0.1, 1, 10], cv=5, max_iter=1000,\n",
       "                     multi_class=&#x27;multinomial&#x27;, n_jobs=-1, random_state=42)</pre></div></div></div></div></div>"
      ],
      "text/plain": [
       "LogisticRegressionCV(Cs=[0.1, 1, 10], cv=5, max_iter=1000,\n",
       "                     multi_class='multinomial', n_jobs=-1, random_state=42)"
      ]
     },
     "execution_count": 11,
     "metadata": {},
     "output_type": "execute_result"
    }
   ],
   "source": [
    "best_model = model\n",
    "best_model.fit(X_train_scaled, y_train)"
   ]
  },
  {
   "cell_type": "code",
   "execution_count": 12,
   "id": "e18a204e",
   "metadata": {
    "execution": {
     "iopub.execute_input": "2025-06-12T12:17:35.545089Z",
     "iopub.status.busy": "2025-06-12T12:17:35.543352Z",
     "iopub.status.idle": "2025-06-12T12:17:35.564667Z",
     "shell.execute_reply": "2025-06-12T12:17:35.563868Z"
    },
    "papermill": {
     "duration": 0.029957,
     "end_time": "2025-06-12T12:17:35.566615",
     "exception": false,
     "start_time": "2025-06-12T12:17:35.536658",
     "status": "completed"
    },
    "tags": []
   },
   "outputs": [],
   "source": [
    "y_test_pred = best_model.predict(X_test_scaled)\n",
    "\n",
    "submission = pd.DataFrame({\n",
    "    'ID': test['ID'],\n",
    "    'class': y_test_pred\n",
    "})\n",
    "submission.to_csv('submission.csv', index=False)"
   ]
  }
 ],
 "metadata": {
  "kaggle": {
   "accelerator": "none",
   "dataSources": [
    {
     "databundleVersionId": 12585144,
     "sourceId": 104491,
     "sourceType": "competition"
    }
   ],
   "dockerImageVersionId": 31040,
   "isGpuEnabled": false,
   "isInternetEnabled": false,
   "language": "python",
   "sourceType": "notebook"
  },
  "kernelspec": {
   "display_name": "Python 3",
   "language": "python",
   "name": "python3"
  },
  "language_info": {
   "codemirror_mode": {
    "name": "ipython",
    "version": 3
   },
   "file_extension": ".py",
   "mimetype": "text/x-python",
   "name": "python",
   "nbconvert_exporter": "python",
   "pygments_lexer": "ipython3",
   "version": "3.11.11"
  },
  "papermill": {
   "default_parameters": {},
   "duration": 23.734635,
   "end_time": "2025-06-12T12:17:38.192581",
   "environment_variables": {},
   "exception": null,
   "input_path": "__notebook__.ipynb",
   "output_path": "__notebook__.ipynb",
   "parameters": {},
   "start_time": "2025-06-12T12:17:14.457946",
   "version": "2.6.0"
  }
 },
 "nbformat": 4,
 "nbformat_minor": 5
}
